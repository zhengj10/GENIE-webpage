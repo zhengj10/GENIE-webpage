{
 "cells": [
  {
   "cell_type": "code",
   "execution_count": 1,
   "metadata": {},
   "outputs": [],
   "source": [
    "import pandas as pd\n",
    "import matplotlib.pyplot as plt\n",
    "import h5py\n",
    "import scipy.signal as ss\n",
    "import seaborn as sns\n",
    "import numpy as np\n",
    "from skimage.io import imread\n",
    "from glob import glob\n",
    "import os\n",
    "import h5py"
   ]
  },
  {
   "cell_type": "markdown",
   "metadata": {},
   "source": [
    "### Load Ben's processed data and apply filter\n",
    "---\n",
    "From the webpage and apply filter 514.\n",
    "Download the following files from dm11\\\\\\genie\\BenArthur\\GETI-screen\n",
    "- summary-good-1AP.csv\n",
    "- summary-good-10AP.csv\n",
    "- summary-good-40AP.csv\n",
    "- control-good-1AP.csv\n",
    "- control-good-10AP.csv\n",
    "- control-good-40AP.csv"
   ]
  },
  {
   "cell_type": "code",
   "execution_count": 2,
   "metadata": {},
   "outputs": [],
   "source": [
    "sumPath = '/Volumes/genie/GENIE webpage/iGABASnFR2/FS screening'\n",
    "savePath = '/Volumes/genie/Presentations/Jihong/GENIE production/220517'"
   ]
  },
  {
   "cell_type": "code",
   "execution_count": 3,
   "metadata": {},
   "outputs": [],
   "source": [
    "stim = '10AP'\n",
    "df_ben = pd.read_csv(sumPath+'/good_%s_220512.csv' %stim)\n",
    "df_control_ben = pd.read_csv(sumPath+'/control_%s_220512.csv' %stim)"
   ]
  },
  {
   "cell_type": "code",
   "execution_count": 4,
   "metadata": {},
   "outputs": [],
   "source": [
    "# df_ben\n",
    "# df_ben.construct.unique()\n",
    "# df_ben.shape\n",
    "# df_ben.construct.unique().shape\n",
    "# df_control_ben.columns\n",
    "# df_control_ben\n",
    "# df_control_ben.plate.unique()"
   ]
  },
  {
   "cell_type": "code",
   "execution_count": 5,
   "metadata": {},
   "outputs": [],
   "source": [
    "df_plot = pd.DataFrame()\n",
    "df_control_plot = pd.DataFrame()"
   ]
  },
  {
   "cell_type": "code",
   "execution_count": 6,
   "metadata": {},
   "outputs": [],
   "source": [
    "df_plot['construct'] = df_ben['construct']\n",
    "df_plot['no_pixels'] = df_ben['#pixels<sub>&nbsp;</sub>']\n",
    "df_plot['thre'] = 1+(df_ben['ctrl pdi<sub>&nbsp;</sub>']/100.0)\n",
    "df_plot['ctr_no_pixels'] = df_ben['ctrl #pix<sub>&nbsp;</sub>']\n",
    "\n",
    "# Normalized data\n",
    "df_plot['SNR'] = df_ben['SNR<sub></sub>']\n",
    "df_plot['dFF'] = df_ben['&Delta;F/F<sub>0</sub>']\n",
    "df_plot['F0'] = df_ben['F<sub>0</sub>']\n",
    "df_plot['tau_on'] = df_ben['&tau;<sub>on</sub>']\n",
    "df_plot['tau_off'] = df_ben['&tau;<sub>off</sub>']\n",
    "df_plot['dFF_Tau_on_ratio'] = df_ben['&Delta;F/F<sub>0</sub>']/df_ben['&tau;<sub>on</sub>']\n",
    "\n",
    "# # Unnormalized data\n",
    "df_plot['SNR_unnorm'] = df_ben['unnormalized']\n",
    "df_plot['dFF_unnorm'] = df_ben['unnormalized.1']\n",
    "df_plot['F0_unnorm'] = df_ben['unnormalized.2']\n",
    "df_plot['tau_on_unnorm'] = df_ben['unnormalized.3']\n",
    "df_plot['tau_off_unnorm'] = df_ben['unnormalized.4']\n",
    "df_plot['dFF_Tau_on_ratio_unnorm'] = df_ben['unnormalized.1']/df_ben['unnormalized.3']\n",
    "\n",
    "# Control data\n",
    "df_plot['ctr_SNR'] = df_ben['unnormalized']/df_ben['SNR<sub></sub>']\n",
    "df_plot['ctr_dFF'] = df_ben['ctrl &Delta;F/F<sub>0</sub>']\n",
    "df_plot['ctr_F0'] = df_ben['unnormalized.2']/df_ben['F<sub>0</sub>']\n",
    "df_plot['ctr_tau_on'] = df_ben['unnormalized.3']/df_ben['&tau;<sub>on</sub>']\n",
    "df_plot['ctr_tau_off'] = df_ben['unnormalized.4']/df_ben['&tau;<sub>off</sub>']\n",
    "df_plot['ctr_dFF_Tau_on_ratio'] = df_ben['ctrl &Delta;F/F<sub>0</sub>']/df_ben['unnormalized.3']/df_ben['&tau;<sub>on</sub>']\n",
    "\n",
    "# Control data (from df_control_ben, to plot both 514.1 and 514.4409)\n",
    "df_control_plot['construct'] = df_control_ben['plate']\n",
    "df_control_plot['no_pixels'] = df_control_ben['#pixels<sub>&nbsp;</sub>']\n",
    "df_control_plot['SNR_unnorm'] = df_control_ben['SNR<sub></sub>']\n",
    "df_control_plot['dFF_unnorm'] = df_control_ben['&Delta;F/F<sub>0</sub>']\n",
    "df_control_plot['F0_unnorm'] = df_control_ben['F<sub>0</sub>']\n",
    "df_control_plot['tau_on_unnorm'] = df_control_ben['&tau;<sub>on</sub>']\n",
    "df_control_plot['tau_off_unnorm'] = df_control_ben['&tau;<sub>off</sub>']\n",
    "\n",
    "df_plot['stim'] = stim\n"
   ]
  },
  {
   "cell_type": "code",
   "execution_count": 7,
   "metadata": {},
   "outputs": [],
   "source": [
    "# pd.set_option('display.max_rows', df_plot.shape[0]+1)\n",
    "# df_new.to_excel(r'C:\\Users\\zhengj10\\Desktop\\iGABASnFR_sreening_Nov_2021_variants.xlsx')\n",
    "# df_new_control.to_excel(r'C:\\Users\\zhengj10\\Desktop\\iGABASnFR_sreening_Nov_2021_control.xlsx')"
   ]
  },
  {
   "cell_type": "markdown",
   "metadata": {},
   "source": [
    "Filter data\n",
    "- Drop constructs with N/A value\n",
    "- Drop constructs with no. of pixels less than 10e3"
   ]
  },
  {
   "cell_type": "code",
   "execution_count": 8,
   "metadata": {},
   "outputs": [
    {
     "name": "stdout",
     "output_type": "stream",
     "text": [
      "(6262, 23)\n"
     ]
    },
    {
     "data": {
      "text/plain": [
       "(433, 7)"
      ]
     },
     "execution_count": 8,
     "metadata": {},
     "output_type": "execute_result"
    }
   ],
   "source": [
    "df_plot = df_plot.dropna()\n",
    "df_plot = df_plot[df_plot['construct'].str.contains('514.')] # Remove other GETIs like yGluSnFR\n",
    "print(df_plot.shape)\n",
    "\n",
    "df_control_plot = df_control_plot.dropna()\n",
    "df_control_plot = df_control_plot[df_control_plot['construct'].str.contains('514.')] # Remove other GETIs\n",
    "df_control_plot.shape"
   ]
  },
  {
   "cell_type": "code",
   "execution_count": 9,
   "metadata": {},
   "outputs": [],
   "source": [
    "C = []\n",
    "for i,r in df_plot.iterrows():\n",
    "    c = '514.'+r['construct'].split('514.')[1][:4]\n",
    "    C.append(c)\n",
    "df_plot['construct_id'] = C   "
   ]
  },
  {
   "cell_type": "code",
   "execution_count": 10,
   "metadata": {},
   "outputs": [],
   "source": [
    "C = []\n",
    "for i,r in df_control_plot.iterrows():\n",
    "    C.append(r['construct'].split(' ')[0])\n",
    "df_control_plot['construct_id'] = C"
   ]
  },
  {
   "cell_type": "code",
   "execution_count": 11,
   "metadata": {},
   "outputs": [],
   "source": [
    "# df_control_plot\n",
    "# df_plot"
   ]
  },
  {
   "cell_type": "code",
   "execution_count": 12,
   "metadata": {},
   "outputs": [
    {
     "data": {
      "text/plain": [
       "(2,)"
      ]
     },
     "execution_count": 12,
     "metadata": {},
     "output_type": "execute_result"
    }
   ],
   "source": [
    "df_control_plot['construct_id'].unique().shape"
   ]
  },
  {
   "cell_type": "markdown",
   "metadata": {},
   "source": [
    "### Plot progress"
   ]
  },
  {
   "cell_type": "code",
   "execution_count": 13,
   "metadata": {},
   "outputs": [
    {
     "data": {
      "image/png": "[encoded data removed]",
      "text/plain": [
       "<Figure size 864x432 with 5 Axes>"
      ]
     },
     "metadata": {
      "needs_background": "light"
     },
     "output_type": "display_data"
    }
   ],
   "source": [
    "params = ['no_pixels','dFF_unnorm','tau_on_unnorm','tau_off_unnorm','F0_unnorm']\n",
    "i=1\n",
    "plt.figure(figsize=[12,6])\n",
    "for param in params:\n",
    "    Construct = []\n",
    "    Val = []\n",
    "    for c in df_plot.construct_id.unique():\n",
    "        Construct.append(c)\n",
    "        df_temp = df_plot[df_plot.construct_id==c]\n",
    "        param_val = df_temp[param].median()\n",
    "        Val.append(param_val)\n",
    "        \n",
    "    for c in df_control_plot.construct_id.unique():\n",
    "        Construct.append(c)\n",
    "        df_temp = df_control_plot[df_control_plot.construct_id==c]\n",
    "        param_val = df_temp[param].median()\n",
    "        Val.append(param_val)\n",
    "\n",
    "    df_plot_sel = pd.DataFrame({'Construct':Construct,param:Val})\n",
    "    if param in ['tau_on_unnorm','tau_off_unnorm']:\n",
    "        df_plot_sel.sort_values(by=param,ascending=False,inplace=True)\n",
    "    else:\n",
    "        df_plot_sel.sort_values(by=param,ascending=True,inplace=True)\n",
    "    df_plot_sel.index = np.arange(len(df_plot_sel))\n",
    "    \n",
    "\n",
    "    ax = plt.subplot(len(params),1,i)\n",
    "    barlist = ax.bar(np.arange(len(df_plot_sel)),df_plot_sel[param],color='gray',width=1,alpha=0.5)\n",
    "\n",
    "    barlist[df_plot_sel[df_plot_sel['Construct']=='514.1'].index[0]].set_color('b')\n",
    "    barlist[df_plot_sel[df_plot_sel['Construct']=='514.4409'].index[0]].set_color('r')\n",
    "\n",
    "\n",
    "    ax.spines['right'].set_visible(False)\n",
    "    ax.spines['top'].set_visible(False)\n",
    "    \n",
    "    if i<5:\n",
    "        plt.xticks([])\n",
    "        \n",
    "    if param == 'dFF_unnorm':\n",
    "        ax.set_ylabel('\\u0394F/F0',size=14)\n",
    "    elif param == 'tau_on_unnorm':\n",
    "        ax.set_ylabel('Tau on (s)',size=14)\n",
    "    elif param == 'tau_off_unnorm':\n",
    "        ax.set_ylabel('Tau off (s)',size=14)\n",
    "    elif param == 'F0_unnorm':\n",
    "        ax.set_ylabel('F0',size=14)\n",
    "    elif param == 'no_pixels':\n",
    "        ax.set_ylabel('No. pixels',size=14)\n",
    "#         ax.set_ylim([0,10000])\n",
    "        \n",
    "    ax.get_yaxis().set_label_coords(-0.05,0.5)\n",
    "\n",
    "    plt.ticklabel_format(axis=\"y\", style=\"sci\", scilimits=(0,0))\n",
    "    plt.tick_params(labelsize=13)\n",
    "    i+=1\n",
    "plt.tight_layout()\n",
    "plt.savefig(sumPath+'/screening_progress_%s.png' %stim, dpi=1200)\n",
    "plt.savefig(savePath+'/screening_progress_%s.png' %stim, dpi=1200)\n",
    "plt.show()"
   ]
  },
  {
   "cell_type": "code",
   "execution_count": null,
   "metadata": {},
   "outputs": [],
   "source": []
  },
  {
   "cell_type": "code",
   "execution_count": null,
   "metadata": {},
   "outputs": [],
   "source": []
  },
  {
   "cell_type": "code",
   "execution_count": null,
   "metadata": {},
   "outputs": [],
   "source": [
    "# df_plot_sel[df_plot_sel['Construct']=='514.4409'].index[0]\n",
    "# ax.get_xlim()[1]-14\n",
    "# df_plot_sel[df_plot_sel['Construct']=='514.4409']\n",
    "# df_plot_sel[df_plot_sel['Construct'].str.contains('4409')]\n",
    "# df_plot_sel.style.set_properties(subset=['Construct'],**{'width':'490px'})\n",
    "df_plot_sel"
   ]
  },
  {
   "cell_type": "code",
   "execution_count": null,
   "metadata": {},
   "outputs": [],
   "source": []
  },
  {
   "cell_type": "code",
   "execution_count": null,
   "metadata": {},
   "outputs": [],
   "source": [
    "# np.abs(df_plot['dFF'])\n",
    "df_plot_sel"
   ]
  },
  {
   "cell_type": "code",
   "execution_count": null,
   "metadata": {},
   "outputs": [],
   "source": [
    "df_plot_sel.shape"
   ]
  },
  {
   "cell_type": "code",
   "execution_count": null,
   "metadata": {},
   "outputs": [],
   "source": [
    "# df_temp.shape"
   ]
  },
  {
   "cell_type": "code",
   "execution_count": null,
   "metadata": {},
   "outputs": [],
   "source": [
    "# df_non = pd.DataFrame()\n",
    "# for c in df_plot.construct.unique():\n",
    "#     if c not in df_temp.construct.unique():\n",
    "#         df_temp_2 = df_plot[df_plot['construct']==c]\n",
    "#         df_non = pd.concat([df_non,df_temp_2])"
   ]
  },
  {
   "cell_type": "code",
   "execution_count": null,
   "metadata": {},
   "outputs": [],
   "source": [
    "# df_non.shape"
   ]
  },
  {
   "cell_type": "code",
   "execution_count": null,
   "metadata": {},
   "outputs": [],
   "source": [
    "# df_plot = df_plot[(df_plot['no_pixels']>10e3) & (df_plot['norm_fast_dFF']>10e-2)]\n",
    "# df_plot = df_plot[df_plot['no_pixels']>10e3] # hurt 1AP data too much"
   ]
  },
  {
   "cell_type": "markdown",
   "metadata": {},
   "source": [
    "- Plot top hits only (based on dFF or dFF/Tau_on)"
   ]
  },
  {
   "cell_type": "code",
   "execution_count": null,
   "metadata": {},
   "outputs": [],
   "source": [
    "# df_plot = df_plot.sort_values(by=['dFF'],ascending=False)\n",
    "# df_plot = df_plot.sort_values(by=['dFF_Tau_on_ratio'],ascending=False)\n",
    "# df_plot.index = np.arange(len(df_plot))\n",
    "# df_plot = df_plot.loc[0:14,:]"
   ]
  },
  {
   "cell_type": "markdown",
   "metadata": {},
   "source": [
    "### Kerr plot (x: norm. dFF)\n",
    "- Size of datapoints represents F0\n",
    "- Constructs with norm. dFF > 1+PDI and norm. tau_on < 1.5 will be labeled"
   ]
  },
  {
   "cell_type": "code",
   "execution_count": 14,
   "metadata": {},
   "outputs": [
    {
     "data": {
      "image/png": "[encoded data removed]",
      "text/plain": [
       "<Figure size 504x432 with 2 Axes>"
      ]
     },
     "metadata": {},
     "output_type": "display_data"
    }
   ],
   "source": [
    "sns.set_style(style='whitegrid')\n",
    "# fig = plt.figure(figsize=(7,6))\n",
    "fig = plt.figure(figsize=(7,6))\n",
    "plt.rc('font', size=13)\n",
    "ax = plt.subplot(111)\n",
    "\n",
    "all_sensors = plt.scatter(df_plot['dFF'],df_plot['no_pixels'],c=df_plot['tau_on'],s=df_plot['F0']*50, cmap=\"jet\")\n",
    "plt.clim(0, 3) # if using ax.scatter for above plot plt.clim will ask an image to be defined first\n",
    "cbar = plt.colorbar(all_sensors,aspect=50)\n",
    "# cbar.set_clim(-2.0, 2.0)\n",
    "\n",
    "cbar.ax.set_ylabel('norm Tau on', rotation=90)\n",
    "\n",
    "construct_l = df_plot.construct.to_list()\n",
    "dFF_l = df_plot.dFF.to_list()\n",
    "no_pixels_l = df_plot.no_pixels.to_list()\n",
    "tau_on_l = df_plot.tau_on.to_list()\n",
    "F0_l = df_plot.F0.to_list()\n",
    "\n",
    "thre_l = df_plot.thre.to_list()\n",
    "\n",
    "top_hits = []\n",
    "top_hits_dFF = []\n",
    "top_hits_no_pixels = []\n",
    "top_hits_tau_on = []\n",
    "top_hits_F0 = []\n",
    "\n",
    "text_height = 125\n",
    "\n",
    "for i,construct in enumerate(construct_l):\n",
    "    if dFF_l[i]>5:\n",
    "        continue\n",
    "        \n",
    "    if no_pixels_l[i]>5000:\n",
    "        continue\n",
    "#     if dFF_l[i]>3 and tau_on_l[i]<1.5:\n",
    "    if dFF_l[i]>thre_l[i] and tau_on_l[i]<1:\n",
    "#     if '633.4856' in construct or  '633.4092' in construct or '633.4404' in construct or '633.2642' in construct or '633.2388' in construct or '633.2392' in construct:\n",
    "#     if '633.4856' in construct or  '633.4092' in construct or '633.4404' in construct:\n",
    "        if ';' in construct:\n",
    "            if construct.split(';')[0][-5]=='.':\n",
    "                ax.text(dFF_l[i],no_pixels_l[i]+text_height, \"%s\" %construct.split(';')[0][-8:], ha=\"center\",size=12)\n",
    "                top_hits.append(construct.split(';')[0][-8:])\n",
    "            else:\n",
    "                ax.text(dFF_l[i],no_pixels_l[i]+text_height, \"%s\" %construct.split(';')[0][-7:], ha=\"center\",size=12)\n",
    "                top_hits.append(construct.split(';')[0][-7:])\n",
    "\n",
    "            top_hits_dFF.append(dFF_l[i])\n",
    "            top_hits_no_pixels.append(no_pixels_l[i])\n",
    "            top_hits_tau_on.append(tau_on_l[i])\n",
    "            top_hits_F0.append(F0_l[i])\n",
    "\n",
    "        elif construct[-5]=='.':\n",
    "            ax.text(dFF_l[i],no_pixels_l[i]+text_height, \"%s\" %construct[-8:], ha=\"center\",size=12)\n",
    "            top_hits.append(construct[-8:])\n",
    "            top_hits_dFF.append(dFF_l[i])\n",
    "            top_hits_no_pixels.append(no_pixels_l[i])\n",
    "            top_hits_tau_on.append(tau_on_l[i])\n",
    "            top_hits_F0.append(F0_l[i])\n",
    "\n",
    "        else:\n",
    "            ax.text(dFF_l[i],no_pixels_l[i]+text_height, \"%s\" %construct[-7:], ha=\"center\",size=12)\n",
    "    #             print(construct[-7:])\n",
    "            top_hits.append(construct[-7:])\n",
    "            top_hits_dFF.append(dFF_l[i])\n",
    "            top_hits_no_pixels.append(no_pixels_l[i])\n",
    "            top_hits_tau_on.append(tau_on_l[i])\n",
    "            top_hits_F0.append(F0_l[i])\n",
    "    \n",
    "ax.set_xlabel('Norm. \\u0394F/F0 (1FP)',size=14)\n",
    "ax.set_ylabel('No. pixels',size=14)\n",
    "\n",
    "# ax.set_yscale('log')\n",
    "# ax.set_xscale('log')\n",
    "\n",
    "# ax.set_xlim([-1, 5])\n",
    "# ax.set_ylim([0, 5000])\n",
    "plt.ticklabel_format(axis=\"y\", style=\"sci\", scilimits=(0,0))\n",
    "\n",
    "plt.tight_layout()\n",
    "# fig.savefig(r'Z:\\Presentations\\Jihong\\GENIE production\\211124\\iGABASnFR_FS_211110_by_dFF_10AP.png',dpi=1200)\n",
    "# fig.savefig(r'C:\\Users\\zhengj10\\Desktop\\iGluSnFR_FS_1AP_top_15_hits_by_dFF.png',dpi=1200)\n",
    "# fig.savefig(sumPath+'\\\\Kerr_1AP.png',dpi=1200)\n",
    "plt.show()\n"
   ]
  },
  {
   "cell_type": "code",
   "execution_count": null,
   "metadata": {},
   "outputs": [],
   "source": []
  },
  {
   "cell_type": "code",
   "execution_count": null,
   "metadata": {},
   "outputs": [],
   "source": [
    "(ax.get_ylim()[0]+ax.get_ylim()[1])/40\n",
    "# ax.get_ylim()"
   ]
  },
  {
   "cell_type": "code",
   "execution_count": null,
   "metadata": {},
   "outputs": [],
   "source": [
    "# df_plot[df_plot.construct.str.contains('514.')]"
   ]
  },
  {
   "cell_type": "markdown",
   "metadata": {},
   "source": [
    "### Kerr plot (x: norm. dFF/tau_on)\n",
    "- Size of datapoints represents F0\n",
    "- Constructs with norm. dFF > 1+PDI and norm. tau_on < 1.5 will be labeled"
   ]
  },
  {
   "cell_type": "code",
   "execution_count": null,
   "metadata": {},
   "outputs": [],
   "source": [
    "# df_plot"
   ]
  },
  {
   "cell_type": "code",
   "execution_count": null,
   "metadata": {},
   "outputs": [],
   "source": [
    "sns.set_style(style='whitegrid')\n",
    "fig = plt.figure(figsize=(7,6))\n",
    "plt.rc('font', size=13)\n",
    "ax = plt.subplot(111)\n",
    "\n",
    "all_sensors = plt.scatter(df_plot['dFF_Tau_on_ratio'],df_plot['no_pixels'],c=df_plot['tau_on'],s=df_plot['F0']*50, cmap=\"jet\")\n",
    "plt.clim(0, 3) # if using ax.scatter for above plot plt.clim will ask an image to be defined first\n",
    "cbar = plt.colorbar(all_sensors,aspect=50)\n",
    "# cbar.set_clim(-2.0, 2.0)\n",
    "\n",
    "cbar.ax.set_ylabel('norm Tau on', rotation=90)\n",
    "\n",
    "construct_l = df_plot.construct.to_list()\n",
    "dFF_l = df_plot.dFF.to_list()\n",
    "dFF_Tau_on_ratio_l = df_plot.dFF_Tau_on_ratio.to_list()\n",
    "no_pixels_l = df_plot.no_pixels.to_list()\n",
    "tau_on_l = df_plot.tau_on.to_list()\n",
    "F0_l = df_plot.F0.to_list()\n",
    "ctr_dFF_Tau_on_ratio_l = df_plot.ctr_dFF_Tau_on_ratio.to_list()\n",
    "thre_l = df_plot.thre.to_list()\n",
    "\n",
    "\n",
    "text_height = 124\n",
    "\n",
    "for i,construct in enumerate(construct_l):\n",
    "    if dFF_l[i]>4:\n",
    "        continue\n",
    "    if dFF_Tau_on_ratio_l[i]>2.5:\n",
    "\n",
    "        if ';' in construct:\n",
    "            if construct.split(';')[0][-5]=='.':\n",
    "                ax.text(dFF_Tau_on_ratio_l[i],no_pixels_l[i]+text_height, \"%s\" %construct.split(';')[0][-8:], ha=\"center\",size=12)\n",
    "            else:\n",
    "                ax.text(dFF_Tau_on_ratio_l[i],no_pixels_l[i]+text_height, \"%s\" %construct.split(';')[0][-7:], ha=\"center\",size=12)\n",
    "\n",
    "\n",
    "        elif construct[-5]=='.':\n",
    "            ax.text(dFF_Tau_on_ratio_l[i],no_pixels_l[i]+text_height, \"%s\" %construct[-8:], ha=\"center\",size=12)\n",
    "\n",
    "\n",
    "        else:\n",
    "            ax.text(dFF_Tau_on_ratio_l[i],no_pixels_l[i]+text_height, \"%s\" %construct[-7:], ha=\"center\",size=12)\n",
    "#             print(construct[-7:])\n",
    "\n",
    "    \n",
    "ax.set_xlabel('Norm. \\u0394F/F0/Tau_on (10FP)',size=14)\n",
    "ax.set_ylabel('No. pixels',size=14)\n",
    "\n",
    "# ax.set_yscale('log')\n",
    "# ax.set_xscale('log')\n",
    "\n",
    "# ax.set_xlim([-0.2,4])\n",
    "ax.set_ylim([-0.05,5000])\n",
    "\n",
    "plt.ticklabel_format(axis=\"y\", style=\"sci\", scilimits=(0,0))\n",
    "\n",
    "plt.tight_layout()\n",
    "# fig.savefig(r'Z:\\Presentations\\Jihong\\GENIE production\\211124\\iGABASnFR_FS_211110_by_dFF_tau_on_ratio_10AP.png',dpi=1200)\n",
    "# fig.savefig(r'C:\\Users\\zhengj10\\Desktop\\iGluSnFR_FS_1AP_top_15_hits_by_dFF_Tau_on_ratio.png',dpi=1200)\n",
    "# fig.savefig(sumPath+'\\\\Kerr_1AP.png',dpi=1200)\n",
    "plt.show()\n"
   ]
  },
  {
   "cell_type": "code",
   "execution_count": null,
   "metadata": {},
   "outputs": [],
   "source": [
    "pd.set_option('display.max_columns', df_plot.shape[1]+1)\n",
    "# df_plot[df_plot.construct.str.contains('633.543')]"
   ]
  },
  {
   "cell_type": "code",
   "execution_count": null,
   "metadata": {},
   "outputs": [],
   "source": [
    "(ax.get_ylim()[0]+ax.get_ylim()[1])/40\n",
    "# df_ben[df_ben['construct'].str.contains('4404')]"
   ]
  },
  {
   "cell_type": "markdown",
   "metadata": {},
   "source": [
    "### Kerr plot (x: norm. fast dFF)\n",
    "- Size of datapoints represents F0\n",
    "- Constructs with norm. dFF > 1+PDI and norm. tau_on < 1.5 will be labeled"
   ]
  },
  {
   "cell_type": "code",
   "execution_count": null,
   "metadata": {},
   "outputs": [],
   "source": [
    "from mpl_toolkits.axes_grid1.inset_locator import inset_axes\n",
    "sns.set_style(style='whitegrid')\n",
    "fig = plt.figure(figsize=(15,10))\n",
    "plt.rc('font', size=15)\n",
    "ax = plt.subplot(111)\n",
    "\n",
    "all_sensors = plt.scatter(df_plot['fast_dFF'],df_plot['no_pixels'],c=df_plot['tau_on'],s=df_plot['F0']*50, cmap=\"jet\")\n",
    "plt.clim([0,2])\n",
    "cbar = plt.colorbar(all_sensors,aspect=50)\n",
    "cbar.ax.set_ylabel('norm. Tau on', rotation=90)\n",
    "\n",
    "construct_l = df_plot.construct.to_list()\n",
    "no_pixels_l = df_plot.no_pixels.to_list()\n",
    "fast_dFF_l = df_plot.fast_dFF.to_list()\n",
    "top_hits_fast_dFF = []\n",
    "\n",
    "for i,construct in enumerate(construct_l):\n",
    "    if fast_dFF_l[i]>thre_l[i]:\n",
    "#     if '633.4856' in construct or  '633.4092' in construct or '633.4404' in construct or '633.2642' in construct or '633.2388' in construct or '633.2392' in construct:\n",
    "#     if '633.4856' in construct or  '633.4092' in construct or '633.4404' in construct:\n",
    "        if ';' in construct:\n",
    "            if construct.split(';')[0][-5]=='.':\n",
    "                ax.text(fast_dFF_l[i],no_pixels_l[i]+text_height, \"%s\" %construct.split(';')[0][-8:], ha=\"center\",size=15)\n",
    "                top_hits_fast_dFF.append(construct.split(';')[0][-8:])\n",
    "            else:\n",
    "                ax.text(fast_dFF_l[i],no_pixels_l[i]+text_height, \"%s\" %construct.split(';')[0][-7:], ha=\"center\",size=15)\n",
    "                top_hits_fast_dFF.append(construct.split(';')[0][-7:])\n",
    "\n",
    "            top_hits_fast_dFF.append(dFF_l[i])\n",
    "\n",
    "        elif construct[-5]=='.':\n",
    "            ax.text(fast_dFF_l[i],no_pixels_l[i]+text_height, \"%s\" %construct[-8:], ha=\"center\",size=15)\n",
    "            top_hits_fast_dFF.append(construct[-8:])\n",
    "\n",
    "        else:\n",
    "            ax.text(fast_dFF_l[i],no_pixels_l[i]+text_height, \"%s\" %construct[-7:], ha=\"center\",size=15)\n",
    "    #             print(construct[-7:])\n",
    "            top_hits_fast_dFF.append(construct[-7:])\n",
    "\n",
    "ax.set_xlabel('Norm. fast \\u0394F/F0',size=18)\n",
    "ax.set_ylabel('No. pixels',size=18)\n",
    "# ax.set_xlim([0,5])\n",
    "\n",
    "# ax.set_yscale('log')\n",
    "# ax.set_xscale('log')\n",
    "\n",
    "plt.tight_layout()\n",
    "# fig.savefig(r'Y:\\Presentation\\210831\\210713-210817-1AP_norm_fast_dF_20AP.png',dpi=1200)\n",
    "# fig.savefig(r'Y:\\Presentation\\210825\\210713-210817-1AP_norm_fast_dFF_20AP.pdf',format='pdf')\n",
    "plt.show()"
   ]
  },
  {
   "cell_type": "markdown",
   "metadata": {},
   "source": [
    "### Kerr plot (unnormalized)\n",
    "- Size of datapoints represents F0\n",
    "- Constructs with dFF_unnorm > max of control will be labeled"
   ]
  },
  {
   "cell_type": "code",
   "execution_count": null,
   "metadata": {},
   "outputs": [],
   "source": [
    "# df_plot.columns\n",
    "df_control_plot.columns"
   ]
  },
  {
   "cell_type": "code",
   "execution_count": null,
   "metadata": {
    "scrolled": false
   },
   "outputs": [],
   "source": [
    "df_control_plot_sel = df_control_plot[df_control_plot.construct.str.contains('514.4409')]\n",
    "mean = (df_control_plot_sel['dFF']/df_control_plot_sel['tau_on']).mean()\n",
    "mean_pdi = np.nanmean(df_control_ben['pdi<sub>&nbsp;</sub>'].to_list())\n",
    "thre = mean*(1+mean_pdi/100)\n",
    "# thre = mean\n",
    "\n",
    "\n",
    "sns.set_style(style='whitegrid')\n",
    "fig = plt.figure(figsize=(8,6.5))\n",
    "plt.rc('font', size=15)\n",
    "ax = plt.subplot(111)\n",
    "\n",
    "all_sensors = plt.scatter(df_plot['dFF_unnorm'],df_plot['no_pixels'],c=df_plot['tau_on_unnorm']*1000,\n",
    "                          s=df_plot['F0_unnorm']*2, cmap=\"jet\")\n",
    "# plt.clim(0,150)\n",
    "cbar_1 = plt.colorbar(all_sensors,aspect=50)\n",
    "cbar_1.ax.set_ylabel('Tau on (ms)',rotation=90)\n",
    "\n",
    "df_control_plot_sel = df_control_plot[df_control_plot.construct.str.contains('514.1')]\n",
    "ctr_A = plt.scatter(df_control_plot_sel['dFF'],df_control_plot_sel['no_pixels'],c=df_control_plot_sel['tau_on']*1000,\n",
    "                    s=df_control_plot_sel['F0']*2,marker='x',cmap=\"jet\")\n",
    "# plt.clim(0,150)\n",
    "# cbar_2 = plt.colorbar(ctr_A,aspect=50,pad=-0.03)\n",
    "# cbar_2.ax.set_ylabel('Control (514.1) tau on (ms)',rotation=90)\n",
    "\n",
    "df_control_plot_sel = df_control_plot[df_control_plot.construct.str.contains('514.4409')]\n",
    "ctr_B = plt.scatter(df_control_plot_sel['dFF'],df_control_plot_sel['no_pixels'],c=df_control_plot_sel['tau_on']*1000,\n",
    "                    s=df_control_plot_sel['F0']*2,marker='s',cmap=\"jet\")\n",
    "# plt.clim(0,150)\n",
    "# cbar_3 = plt.colorbar(ctr_B,aspect=50)\n",
    "# cbar_3.ax.set_ylabel('Control (514.4409) tau on (ms)',rotation=90)\n",
    "\n",
    "import matplotlib.lines as mlines\n",
    "cross = mlines.Line2D([], [], color='gray', marker='x', linestyle='None',\n",
    "                          markersize=10, label='514.1')\n",
    "square = mlines.Line2D([], [], color='gray', marker='s', linestyle='None',\n",
    "                          markersize=10, label='514.4409')\n",
    "circle = mlines.Line2D([], [], color='gray', marker='o', linestyle='None',\n",
    "                          markersize=10, label='Variants')\n",
    "\n",
    "plt.legend(handles=[cross, square, circle])\n",
    "\n",
    "\n",
    "construct_l = df_plot.construct.to_list()\n",
    "dFF_Tau_on_ratio_l = df_plot.dFF_Tau_on_ratio_unnorm.to_list()\n",
    "no_pixels_l = df_plot.no_pixels.to_list()\n",
    "dFF_unnorm_l = df_plot.dFF_unnorm.to_list()\n",
    "tau_on_unnorm_l = df_plot.tau_on_unnorm.to_list()\n",
    "top_hits_dFF_unnorm = []\n",
    "\n",
    "text_height = 16087.410175937068\n",
    "\n",
    "for i,construct in enumerate(construct_l):\n",
    "#     if dFF_unnorm_l[i]<0 or no_pixels_l[i]<1000:\n",
    "#         continue\n",
    "    if no_pixels_l[i]>10000:\n",
    "#         if dFF_Tau_on_ratio_l[i]>thre and no_pixels_l[i]>100:\n",
    "        if ';' in construct:\n",
    "            if construct.split(';')[0][-5]=='.':\n",
    "                ax.text(dFF_unnorm_l[i],no_pixels_l[i]+text_height, \"%s\" %construct.split(';')[0][-8:], ha=\"center\",size=15)\n",
    "                top_hits_dFF_unnorm.append(construct.split(';')[0][-8:])\n",
    "                print(construct[-8:])\n",
    "            else:\n",
    "                ax.text(dFF_unnorm_l[i],no_pixels_l[i]+text_height, \"%s\" %construct.split(';')[0][-7:], ha=\"center\",size=15)\n",
    "                top_hits_dFF_unnorm.append(construct.split(';')[0][-7:])\n",
    "                print(construct[-8:])\n",
    "\n",
    "#             top_hits_dFF_unnorm.append(dFF_l[i])\n",
    "\n",
    "        elif construct[-5]=='.':\n",
    "            ax.text(dFF_unnorm_l[i],no_pixels_l[i]*1.2, \"%s\" %construct[-8:], ha=\"center\",size=15)\n",
    "            top_hits_dFF_unnorm.append(construct[-8:])\n",
    "            print(construct[-8:])\n",
    "\n",
    "        else:\n",
    "\n",
    "            ax.text(dFF_unnorm_l[i],no_pixels_l[i]+text_height, \"%s\" %construct[-7:], ha=\"center\",size=15)\n",
    "    #             print(construct[-7:])\n",
    "            top_hits_dFF_unnorm.append(construct[-7:])\n",
    "            print(construct[-7:])\n",
    "\n",
    "#     ax.text(dFF_unnorm_l[i],no_pixels_l[i]*1.2, \"%s\" %construct[-8:], ha=\"center\",size=15)\n",
    "#     top_hits_dFF_unnorm.append(construct[-8:])\n",
    "\n",
    "ax.set_xlabel('\\u0394F/F0',size=14)\n",
    "ax.set_ylabel('No. pixels',size=14)\n",
    "\n",
    "# ax.set_xlim([0,2.5])\n",
    "# ax.set_ylim([100,421754.61728867824])\n",
    "ax.set_yscale('log')\n",
    "# ax.set_xscale('log')\n",
    "\n",
    "\n",
    "plt.tight_layout()\n",
    "# fig.savefig(r'Z:\\Presentations\\Jihong\\GENIE production\\211201\\iGABASnFR_nov_unnorm_40AP_kerr.png',dpi=1200)\n",
    "# fig.savefig(r'C:\\Users\\zhengj10\\Desktop\\iGABASnFR_nov_unnorm_%s_kerr.png' %stim,dpi=1200)\n",
    "# fig.savefig(r'Y:\\Presentation\\210831\\210713-210817-1AP_norm_fast_dF_20AP.png',dpi=1200)\n",
    "# fig.savefig(r'Y:\\Presentation\\210825\\210713-210817-1AP_norm_fast_dFF_20AP.pdf',format='pdf')\n",
    "plt.show()\n"
   ]
  },
  {
   "cell_type": "code",
   "execution_count": null,
   "metadata": {},
   "outputs": [],
   "source": []
  },
  {
   "cell_type": "code",
   "execution_count": null,
   "metadata": {
    "scrolled": true
   },
   "outputs": [],
   "source": [
    "df_sort = df_plot.sort_values(by='F0',ascending=False)\n",
    "# for i,r in df_sort.iterrows():\n",
    "#     print(r['construct'].split('.')[-1])\n",
    "# df_sort  \n"
   ]
  },
  {
   "cell_type": "code",
   "execution_count": null,
   "metadata": {},
   "outputs": [],
   "source": [
    "df_control_plot_sel\n",
    "(ax.get_ylim()[1]-ax.get_ylim()[0])/40"
   ]
  },
  {
   "cell_type": "code",
   "execution_count": null,
   "metadata": {},
   "outputs": [],
   "source": [
    "# thre\n",
    "\n",
    "## Top hits based on dFF/Tau on (1FP data)\n",
    "# 514.4630\n",
    "# 514.4276\n",
    "# 514.4622\n",
    "# 514.4640\n",
    "# 514.4629\n",
    "# 514.4534\n",
    "# 514.4478\n",
    "# 514.4479\n"
   ]
  },
  {
   "cell_type": "code",
   "execution_count": null,
   "metadata": {},
   "outputs": [],
   "source": [
    "df_ben[df_ben.construct.str.contains('514.4622')]\n"
   ]
  },
  {
   "cell_type": "code",
   "execution_count": null,
   "metadata": {},
   "outputs": [],
   "source": []
  },
  {
   "cell_type": "code",
   "execution_count": null,
   "metadata": {},
   "outputs": [],
   "source": []
  },
  {
   "cell_type": "code",
   "execution_count": null,
   "metadata": {},
   "outputs": [],
   "source": [
    "plt.scatter?"
   ]
  },
  {
   "cell_type": "code",
   "execution_count": null,
   "metadata": {},
   "outputs": [],
   "source": [
    "# df_plot['ctr_dFF'].max()*0.75\n",
    "# df_plot.construct.unique()\n",
    "# ax.get_ylim()\n",
    "# ax.get_xlim()\n",
    "# np.log(no_pixels_l[i])"
   ]
  },
  {
   "cell_type": "code",
   "execution_count": null,
   "metadata": {},
   "outputs": [],
   "source": [
    "# (ax.get_ylim()[0]+ax.get_ylim()[1])/40"
   ]
  },
  {
   "cell_type": "code",
   "execution_count": null,
   "metadata": {},
   "outputs": [],
   "source": [
    "# df_plot.columns\n",
    "# df_plot['ctr_dFF'].max()\n",
    "# '633.4404' in top_hits_dFF_unnorm\n",
    "# construct_l\n",
    "inset_axes?"
   ]
  },
  {
   "cell_type": "markdown",
   "metadata": {},
   "source": [
    "### Plot individual top hits dFF from .mat file in Ben's processed data"
   ]
  },
  {
   "cell_type": "code",
   "execution_count": null,
   "metadata": {},
   "outputs": [],
   "source": [
    "dataPath = r'Z:\\BenArthur\\GETI-screen'"
   ]
  },
  {
   "cell_type": "code",
   "execution_count": null,
   "metadata": {},
   "outputs": [],
   "source": [
    "kw = '4409'\n",
    "df_control_sel = df_control_plot[df_control_plot.construct.str.contains(kw)]\n",
    "df_control_sel.index = np.arange(len(df_control_sel))\n",
    "pd.set_option('display.max_columns', df_control_sel.shape[1]+1)\n",
    "df_control_sel"
   ]
  },
  {
   "cell_type": "code",
   "execution_count": null,
   "metadata": {},
   "outputs": [],
   "source": [
    "date = df_control_sel['transfect/plate'][0].split('/')[0]\n",
    "plate = df_control_sel['transfect/plate'][0].split('/')[1]\n",
    "matFiles = glob(os.path.join(dataPath,date,plate)+'\\\\*.mat')"
   ]
  },
  {
   "cell_type": "code",
   "execution_count": null,
   "metadata": {},
   "outputs": [],
   "source": [
    "kw = '4623'\n",
    "df_ben_sel = df_ben[df_ben.construct.str.contains(kw)]\n",
    "df_ben_sel.index = np.arange(len(df_ben_sel))\n",
    "pd.set_option('display.max_columns', df_ben_sel.shape[1]+1)\n",
    "df_ben_sel"
   ]
  },
  {
   "cell_type": "code",
   "execution_count": null,
   "metadata": {},
   "outputs": [],
   "source": [
    "date = df_ben_sel['transfect/plate'][0].split('/')[0]\n",
    "plate = df_ben_sel['transfect/plate'][0].split('/')[1]\n",
    "matFiles = glob(os.path.join(dataPath,date,plate)+'\\\\*.mat')"
   ]
  },
  {
   "cell_type": "code",
   "execution_count": null,
   "metadata": {},
   "outputs": [],
   "source": [
    "matFiles_sel = [m for m in matFiles if kw in m]\n",
    "matFiles_sel = sorted(matFiles_sel)"
   ]
  },
  {
   "cell_type": "code",
   "execution_count": null,
   "metadata": {},
   "outputs": [],
   "source": [
    "matFiles_sel"
   ]
  },
  {
   "cell_type": "code",
   "execution_count": null,
   "metadata": {},
   "outputs": [],
   "source": [
    "freq = '1AP'\n",
    "matFiles_freq = [m for m in matFiles_sel if freq in m]\n",
    "matFiles_freq"
   ]
  },
  {
   "cell_type": "code",
   "execution_count": null,
   "metadata": {},
   "outputs": [],
   "source": [
    "df_ben_sel['transfect/plate']\n",
    "# date"
   ]
  },
  {
   "cell_type": "code",
   "execution_count": null,
   "metadata": {},
   "outputs": [],
   "source": [
    "for matFile in matFiles_freq:\n",
    "    matData = h5py.File(matFile,'r')\n",
    "    dFF_trace = matData['responsive_traces']['fit']['bleach_bkg_norm_ave_filt_trace'][()]\n",
    "    plt.plot(dFF_trace)"
   ]
  },
  {
   "cell_type": "markdown",
   "metadata": {},
   "source": [
    "### Select top hits\n",
    "---\n",
    "Pick up top 100 hits with greatest dFF/tau_on"
   ]
  },
  {
   "cell_type": "code",
   "execution_count": null,
   "metadata": {},
   "outputs": [],
   "source": [
    "df_plot = df_plot.assign(dFF_Tau_on_ratio = df_plot.dFF/df_plot.tau_on)"
   ]
  },
  {
   "cell_type": "code",
   "execution_count": null,
   "metadata": {},
   "outputs": [],
   "source": [
    "df_plot_sorted_by_ratio = df_plot.sort_values(by = 'dFF_Tau_on_ratio',ascending = False)"
   ]
  },
  {
   "cell_type": "code",
   "execution_count": null,
   "metadata": {},
   "outputs": [],
   "source": [
    "df_plot_sorted_by_ratio.index = np.arange(len(df_plot_sorted_by_ratio))"
   ]
  },
  {
   "cell_type": "code",
   "execution_count": null,
   "metadata": {},
   "outputs": [],
   "source": [
    "df_plot_sorted_by_ratio.loc[:99,['construct','dFF','dFF_Tau_on_ratio']].to_excel(r'C:\\Users\\zhengj10\\Desktop\\100_greatest_dFF_Tau_on_ratio_2.xlsx')"
   ]
  },
  {
   "cell_type": "markdown",
   "metadata": {},
   "source": [
    "Selection top 10 constructs with smallest tau_on"
   ]
  },
  {
   "cell_type": "code",
   "execution_count": null,
   "metadata": {},
   "outputs": [],
   "source": [
    "df_plot_sorted_by_tau_on = df_plot.sort_values(by = 'tau_on',ascending = True)"
   ]
  },
  {
   "cell_type": "code",
   "execution_count": null,
   "metadata": {},
   "outputs": [],
   "source": [
    "df_plot_sorted_by_tau_on.index = np.arange(len(df_plot_sorted_by_tau_on))"
   ]
  },
  {
   "cell_type": "code",
   "execution_count": null,
   "metadata": {},
   "outputs": [],
   "source": [
    "df_plot_sorted_by_tau_on"
   ]
  },
  {
   "cell_type": "markdown",
   "metadata": {},
   "source": [
    "Selection top 10 constructs with greatest dFF"
   ]
  },
  {
   "cell_type": "code",
   "execution_count": null,
   "metadata": {},
   "outputs": [],
   "source": [
    "df_plot_sorted_by_dFF = df_plot.sort_values(by = 'dFF',ascending = False)"
   ]
  },
  {
   "cell_type": "code",
   "execution_count": null,
   "metadata": {},
   "outputs": [],
   "source": [
    "df_plot_sorted_by_dFF.index = np.arange(len(df_plot_sorted_by_dFF))\n"
   ]
  },
  {
   "cell_type": "code",
   "execution_count": null,
   "metadata": {},
   "outputs": [],
   "source": [
    "df_plot_sorted_by_dFF[df_plot_sorted_by_dFF.construct.str.contains('2185')]"
   ]
  },
  {
   "cell_type": "markdown",
   "metadata": {},
   "source": [
    "Check if the smallest tau_on constructs are within the 100 constructs with greatest dFF/tau_on"
   ]
  },
  {
   "cell_type": "code",
   "execution_count": null,
   "metadata": {},
   "outputs": [],
   "source": [
    "for i,r in df_plot_sorted_by_tau_on.loc[:9,:].iterrows():\n",
    "    if r['construct'] in df_plot_sorted_by_ratio.loc[:99,:].construct.to_list():\n",
    "        print(r['construct'])"
   ]
  },
  {
   "cell_type": "markdown",
   "metadata": {},
   "source": [
    "Check if the smallest tau_on constructs are within the 100 constructs with greatest dFF/tau_on"
   ]
  },
  {
   "cell_type": "code",
   "execution_count": null,
   "metadata": {},
   "outputs": [],
   "source": [
    "for i,r in df_plot_sorted_by_dFF.loc[:9,:].iterrows():\n",
    "    if r['construct'] in df_plot_sorted_by_ratio.loc[:99,:].construct.to_list():\n",
    "        pass\n",
    "#         print('In top 100 largest dFF/Tau_on')\n",
    "#         print(r['construct'])\n",
    "    else:\n",
    "#         print('Not in top 100 largest dFF/Tau_on:')\n",
    "        print(' ' + r['construct'])\n",
    "        "
   ]
  },
  {
   "cell_type": "code",
   "execution_count": null,
   "metadata": {},
   "outputs": [],
   "source": []
  },
  {
   "cell_type": "code",
   "execution_count": null,
   "metadata": {},
   "outputs": [],
   "source": []
  }
 ],
 "metadata": {
  "kernelspec": {
   "display_name": "Python 3 (ipykernel)",
   "language": "python",
   "name": "python3"
  },
  "language_info": {
   "codemirror_mode": {
    "name": "ipython",
    "version": 3
   },
   "file_extension": ".py",
   "mimetype": "text/x-python",
   "name": "python",
   "nbconvert_exporter": "python",
   "pygments_lexer": "ipython3",
   "version": "3.9.7"
  }
 },
 "nbformat": 4,
 "nbformat_minor": 4
}
